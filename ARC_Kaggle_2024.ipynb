{
  "nbformat": 4,
  "nbformat_minor": 0,
  "metadata": {
    "colab": {
      "provenance": [],
      "mount_file_id": "1NJ_O4UY8HKuB4hIGkvPOj5XWHDk2QtAR",
      "authorship_tag": "ABX9TyOWX3i8ay9pETH5ISgfBmBc",
      "include_colab_link": true
    },
    "kernelspec": {
      "name": "python3",
      "display_name": "Python 3"
    },
    "language_info": {
      "name": "python"
    }
  },
  "cells": [
    {
      "cell_type": "markdown",
      "metadata": {
        "id": "view-in-github",
        "colab_type": "text"
      },
      "source": [
        "<a href=\"https://colab.research.google.com/github/sulaimonao/sulaimonao/blob/main/ARC_Kaggle_2024.ipynb\" target=\"_parent\"><img src=\"https://colab.research.google.com/assets/colab-badge.svg\" alt=\"Open In Colab\"/></a>"
      ]
    },
    {
      "cell_type": "markdown",
      "source": [
        "# Data Preprocessing"
      ],
      "metadata": {
        "id": "YDonjfeExXOt"
      }
    },
    {
      "cell_type": "code",
      "source": [
        "import json\n",
        "import numpy as np\n",
        "import torch\n",
        "from torch.utils.data import DataLoader, Dataset\n",
        "\n",
        "# Load the datasets\n",
        "def load_json(file_path):\n",
        "    with open(file_path, 'r') as f:\n",
        "        return json.load(f)\n",
        "\n",
        "train_challenges = load_json('/content/drive/MyDrive/ARC_Kaggle_2024/arc-agi_training_challenges.json')\n",
        "train_solutions = load_json('/content/drive/MyDrive/ARC_Kaggle_2024/arc-agi_training_solutions.json')\n",
        "eval_challenges = load_json('/content/drive/MyDrive/ARC_Kaggle_2024/arc-agi_evaluation_challenges.json')\n",
        "eval_solutions = load_json('/content/drive/MyDrive/ARC_Kaggle_2024/arc-agi_evaluation_solutions.json')\n",
        "test_challenges = load_json('/content/drive/MyDrive/ARC_Kaggle_2024/arc-agi_test_challenges.json')\n",
        "\n",
        "# Preprocess the data\n",
        "def preprocess_data(challenges, solutions=None):\n",
        "    data = []\n",
        "    for task_id, task in challenges.items():\n",
        "        for pair in task['train']:\n",
        "            input_grid = np.array(pair['input'])\n",
        "            output_grid = np.array(pair['output'])\n",
        "            data.append((input_grid, output_grid))\n",
        "        if solutions:\n",
        "            for idx, pair in enumerate(task['test']):\n",
        "                input_grid = np.array(pair['input'])\n",
        "                output_grid = np.array(solutions[task_id][idx])\n",
        "                data.append((input_grid, output_grid))\n",
        "    return data\n",
        "\n",
        "train_data = preprocess_data(train_challenges, train_solutions)\n",
        "eval_data = preprocess_data(eval_challenges, eval_solutions)\n",
        "test_data = preprocess_data(test_challenges)\n",
        "\n",
        "# Create custom dataset class\n",
        "class GridDataset(Dataset):\n",
        "    def __init__(self, data):\n",
        "        self.data = data\n",
        "\n",
        "    def __len__(self):\n",
        "        return len(self.data)\n",
        "\n",
        "    def __getitem__(self, idx):\n",
        "        return self.data[idx][0], self.data[idx][1]\n",
        "\n",
        "# Create data loaders\n",
        "train_loader = DataLoader(GridDataset(train_data), batch_size=32, shuffle=True)\n",
        "eval_loader = DataLoader(GridDataset(eval_data), batch_size=32, shuffle=False)\n"
      ],
      "metadata": {
        "id": "bplHuz7cxWlT"
      },
      "execution_count": 4,
      "outputs": []
    },
    {
      "cell_type": "markdown",
      "source": [
        "# Resizing Grids to a Fixed Size"
      ],
      "metadata": {
        "id": "4McRpziI2oOM"
      }
    },
    {
      "cell_type": "code",
      "source": [
        "import torch\n",
        "import torch.nn.functional as F\n",
        "\n",
        "# Helper function to resize grids\n",
        "def resize_grid(grid, size=30):\n",
        "    grid_tensor = torch.tensor(grid, dtype=torch.float32)\n",
        "    grid_tensor = grid_tensor.unsqueeze(0).unsqueeze(0)  # Add batch and channel dimensions\n",
        "    grid_tensor = F.interpolate(grid_tensor, size=(size, size), mode='nearest')\n",
        "    return grid_tensor.squeeze().numpy().astype(int)\n",
        "\n",
        "# Resize all grids to 30x30\n",
        "def preprocess_data(challenges, solutions=None, size=30):\n",
        "    data = []\n",
        "    for task_id, task in challenges.items():\n",
        "        for pair in task['train']:\n",
        "            input_grid = resize_grid(pair['input'], size)\n",
        "            output_grid = resize_grid(pair['output'], size)\n",
        "            data.append((input_grid, output_grid))\n",
        "        if solutions:\n",
        "            for idx, pair in enumerate(task['test']):\n",
        "                input_grid = resize_grid(pair['input'], size)\n",
        "                output_grid = resize_grid(solutions[task_id][idx], size)\n",
        "                data.append((input_grid, output_grid))\n",
        "    return data\n",
        "\n",
        "train_data = preprocess_data(train_challenges, train_solutions, size=30)\n",
        "eval_data = preprocess_data(eval_challenges, eval_solutions, size=30)\n",
        "test_data = preprocess_data(test_challenges, size=30)\n"
      ],
      "metadata": {
        "id": "uOql7JR62rbt"
      },
      "execution_count": 5,
      "outputs": []
    },
    {
      "cell_type": "markdown",
      "source": [
        "# Model Design and Training"
      ],
      "metadata": {
        "id": "RFVnlkySyLYm"
      }
    },
    {
      "cell_type": "code",
      "source": [
        "import torch\n",
        "import torch.nn as nn\n",
        "import torch.optim as optim\n",
        "from torch.utils.data import DataLoader, Dataset\n",
        "\n",
        "# Example CNN Model\n",
        "class SimpleCNN(nn.Module):\n",
        "    def __init__(self):\n",
        "        super(SimpleCNN, self).__init__()\n",
        "        self.conv1 = nn.Conv2d(1, 32, kernel_size=3, padding=1)\n",
        "        self.conv2 = nn.Conv2d(32, 64, kernel_size=3, padding=1)\n",
        "        self.fc1 = nn.Linear(64 * 30 * 30, 512)  # Adjust based on input size\n",
        "        self.fc2 = nn.Linear(512, 30 * 30)  # Adjust based on output size\n",
        "\n",
        "    def forward(self, x):\n",
        "        x = torch.relu(self.conv1(x))\n",
        "        x = torch.relu(self.conv2(x))\n",
        "        x = x.view(x.size(0), -1)\n",
        "        x = torch.relu(self.fc1(x))\n",
        "        x = self.fc2(x)\n",
        "        return x.view(-1, 30, 30)  # Adjust based on output size\n",
        "\n",
        "# Create custom dataset class\n",
        "class GridDataset(Dataset):\n",
        "    def __init__(self, data):\n",
        "        self.data = data\n",
        "\n",
        "    def __len__(self):\n",
        "        return len(self.data)\n",
        "\n",
        "    def __getitem__(self, idx):\n",
        "        return self.data[idx][0], self.data[idx][1]\n",
        "\n",
        "# Create data loaders\n",
        "train_loader = DataLoader(GridDataset(train_data), batch_size=32, shuffle=True)\n",
        "eval_loader = DataLoader(GridDataset(eval_data), batch_size=32, shuffle=False)\n",
        "test_loader = DataLoader(GridDataset(test_data), batch_size=32, shuffle=False)\n",
        "\n",
        "# Instantiate and train the model\n",
        "model = SimpleCNN()\n",
        "criterion = nn.MSELoss()\n",
        "optimizer = optim.Adam(model.parameters(), lr=0.001)\n",
        "\n",
        "def train_model(model, train_loader, criterion, optimizer, num_epochs=25):\n",
        "    for epoch in range(num_epochs):\n",
        "        model.train()\n",
        "        running_loss = 0.0\n",
        "        for inputs, labels in train_loader:\n",
        "            inputs = inputs.unsqueeze(1).float()  # Add channel dimension\n",
        "            labels = labels.float()\n",
        "\n",
        "            optimizer.zero_grad()\n",
        "            outputs = model(inputs)\n",
        "            loss = criterion(outputs, labels)\n",
        "            loss.backward()\n",
        "            optimizer.step()\n",
        "            running_loss += loss.item() * inputs.size(0)\n",
        "\n",
        "        epoch_loss = running_loss / len(train_loader.dataset)\n",
        "        print(f'Epoch {epoch}/{num_epochs - 1}, Loss: {epoch_loss:.4f}')\n",
        "\n",
        "train_model(model, train_loader, criterion, optimizer, num_epochs=25)\n"
      ],
      "metadata": {
        "colab": {
          "base_uri": "https://localhost:8080/"
        },
        "id": "-7tj2BsryOYL",
        "outputId": "4510b7b6-a26c-4e25-bf41-81972f0b2245"
      },
      "execution_count": 6,
      "outputs": [
        {
          "output_type": "stream",
          "name": "stdout",
          "text": [
            "Epoch 0/24, Loss: 7.1101\n",
            "Epoch 1/24, Loss: 5.8691\n",
            "Epoch 2/24, Loss: 5.4981\n",
            "Epoch 3/24, Loss: 5.0628\n",
            "Epoch 4/24, Loss: 4.3829\n",
            "Epoch 5/24, Loss: 3.9371\n",
            "Epoch 6/24, Loss: 3.5554\n",
            "Epoch 7/24, Loss: 3.2658\n",
            "Epoch 8/24, Loss: 2.9740\n",
            "Epoch 9/24, Loss: 2.7454\n",
            "Epoch 10/24, Loss: 2.6270\n",
            "Epoch 11/24, Loss: 2.4455\n",
            "Epoch 12/24, Loss: 2.2646\n",
            "Epoch 13/24, Loss: 2.1613\n",
            "Epoch 14/24, Loss: 2.0076\n",
            "Epoch 15/24, Loss: 1.9584\n",
            "Epoch 16/24, Loss: 1.8362\n",
            "Epoch 17/24, Loss: 1.7021\n",
            "Epoch 18/24, Loss: 1.6685\n",
            "Epoch 19/24, Loss: 1.6741\n",
            "Epoch 20/24, Loss: 1.6171\n",
            "Epoch 21/24, Loss: 1.5599\n",
            "Epoch 22/24, Loss: 1.4692\n",
            "Epoch 23/24, Loss: 1.3951\n",
            "Epoch 24/24, Loss: 1.3185\n"
          ]
        }
      ]
    },
    {
      "cell_type": "markdown",
      "source": [
        "# Prediction and Submission"
      ],
      "metadata": {
        "id": "HNCRnqMmyWCv"
      }
    },
    {
      "cell_type": "code",
      "source": [
        "import torch\n",
        "import json\n",
        "\n",
        "def predict(model, test_loader):\n",
        "    model.eval()\n",
        "    predictions = {}\n",
        "    with torch.no_grad():\n",
        "        for i, (inputs, _) in enumerate(test_loader):\n",
        "            inputs = torch.tensor(inputs).unsqueeze(1).float()  # Convert to tensor and add channel dimension\n",
        "            outputs = model(inputs)\n",
        "            task_id = list(test_challenges.keys())[i]\n",
        "            predictions[task_id] = outputs.numpy().astype(int).tolist()\n",
        "    return predictions\n",
        "\n",
        "# Create DataLoader for test data\n",
        "test_loader = DataLoader(GridDataset(test_data), batch_size=1, shuffle=False)\n",
        "\n",
        "# Make predictions\n",
        "predictions = predict(model, test_loader)\n",
        "\n",
        "# Prepare submission\n",
        "with open('submission.json', 'w') as f:\n",
        "    json.dump(predictions, f)\n"
      ],
      "metadata": {
        "colab": {
          "base_uri": "https://localhost:8080/",
          "height": 468
        },
        "id": "QsBcFyvhyYhG",
        "outputId": "fde4597d-f440-4f9d-aaf4-a8572379ae53"
      },
      "execution_count": 9,
      "outputs": [
        {
          "output_type": "stream",
          "name": "stderr",
          "text": [
            "<ipython-input-9-c62baef2a620>:9: UserWarning: To copy construct from a tensor, it is recommended to use sourceTensor.clone().detach() or sourceTensor.clone().detach().requires_grad_(True), rather than torch.tensor(sourceTensor).\n",
            "  inputs = torch.tensor(inputs).unsqueeze(1).float()  # Convert to tensor and add channel dimension\n"
          ]
        },
        {
          "output_type": "error",
          "ename": "IndexError",
          "evalue": "list index out of range",
          "traceback": [
            "\u001b[0;31m---------------------------------------------------------------------------\u001b[0m",
            "\u001b[0;31mIndexError\u001b[0m                                Traceback (most recent call last)",
            "\u001b[0;32m<ipython-input-9-c62baef2a620>\u001b[0m in \u001b[0;36m<cell line: 19>\u001b[0;34m()\u001b[0m\n\u001b[1;32m     17\u001b[0m \u001b[0;34m\u001b[0m\u001b[0m\n\u001b[1;32m     18\u001b[0m \u001b[0;31m# Make predictions\u001b[0m\u001b[0;34m\u001b[0m\u001b[0;34m\u001b[0m\u001b[0m\n\u001b[0;32m---> 19\u001b[0;31m \u001b[0mpredictions\u001b[0m \u001b[0;34m=\u001b[0m \u001b[0mpredict\u001b[0m\u001b[0;34m(\u001b[0m\u001b[0mmodel\u001b[0m\u001b[0;34m,\u001b[0m \u001b[0mtest_loader\u001b[0m\u001b[0;34m)\u001b[0m\u001b[0;34m\u001b[0m\u001b[0;34m\u001b[0m\u001b[0m\n\u001b[0m\u001b[1;32m     20\u001b[0m \u001b[0;34m\u001b[0m\u001b[0m\n\u001b[1;32m     21\u001b[0m \u001b[0;31m# Prepare submission\u001b[0m\u001b[0;34m\u001b[0m\u001b[0;34m\u001b[0m\u001b[0m\n",
            "\u001b[0;32m<ipython-input-9-c62baef2a620>\u001b[0m in \u001b[0;36mpredict\u001b[0;34m(model, test_loader)\u001b[0m\n\u001b[1;32m      9\u001b[0m             \u001b[0minputs\u001b[0m \u001b[0;34m=\u001b[0m \u001b[0mtorch\u001b[0m\u001b[0;34m.\u001b[0m\u001b[0mtensor\u001b[0m\u001b[0;34m(\u001b[0m\u001b[0minputs\u001b[0m\u001b[0;34m)\u001b[0m\u001b[0;34m.\u001b[0m\u001b[0munsqueeze\u001b[0m\u001b[0;34m(\u001b[0m\u001b[0;36m1\u001b[0m\u001b[0;34m)\u001b[0m\u001b[0;34m.\u001b[0m\u001b[0mfloat\u001b[0m\u001b[0;34m(\u001b[0m\u001b[0;34m)\u001b[0m  \u001b[0;31m# Convert to tensor and add channel dimension\u001b[0m\u001b[0;34m\u001b[0m\u001b[0;34m\u001b[0m\u001b[0m\n\u001b[1;32m     10\u001b[0m             \u001b[0moutputs\u001b[0m \u001b[0;34m=\u001b[0m \u001b[0mmodel\u001b[0m\u001b[0;34m(\u001b[0m\u001b[0minputs\u001b[0m\u001b[0;34m)\u001b[0m\u001b[0;34m\u001b[0m\u001b[0;34m\u001b[0m\u001b[0m\n\u001b[0;32m---> 11\u001b[0;31m             \u001b[0mtask_id\u001b[0m \u001b[0;34m=\u001b[0m \u001b[0mlist\u001b[0m\u001b[0;34m(\u001b[0m\u001b[0mtest_challenges\u001b[0m\u001b[0;34m.\u001b[0m\u001b[0mkeys\u001b[0m\u001b[0;34m(\u001b[0m\u001b[0;34m)\u001b[0m\u001b[0;34m)\u001b[0m\u001b[0;34m[\u001b[0m\u001b[0mi\u001b[0m\u001b[0;34m]\u001b[0m\u001b[0;34m\u001b[0m\u001b[0;34m\u001b[0m\u001b[0m\n\u001b[0m\u001b[1;32m     12\u001b[0m             \u001b[0mpredictions\u001b[0m\u001b[0;34m[\u001b[0m\u001b[0mtask_id\u001b[0m\u001b[0;34m]\u001b[0m \u001b[0;34m=\u001b[0m \u001b[0moutputs\u001b[0m\u001b[0;34m.\u001b[0m\u001b[0mnumpy\u001b[0m\u001b[0;34m(\u001b[0m\u001b[0;34m)\u001b[0m\u001b[0;34m.\u001b[0m\u001b[0mastype\u001b[0m\u001b[0;34m(\u001b[0m\u001b[0mint\u001b[0m\u001b[0;34m)\u001b[0m\u001b[0;34m.\u001b[0m\u001b[0mtolist\u001b[0m\u001b[0;34m(\u001b[0m\u001b[0;34m)\u001b[0m\u001b[0;34m\u001b[0m\u001b[0;34m\u001b[0m\u001b[0m\n\u001b[1;32m     13\u001b[0m     \u001b[0;32mreturn\u001b[0m \u001b[0mpredictions\u001b[0m\u001b[0;34m\u001b[0m\u001b[0;34m\u001b[0m\u001b[0m\n",
            "\u001b[0;31mIndexError\u001b[0m: list index out of range"
          ]
        }
      ]
    }
  ]
}