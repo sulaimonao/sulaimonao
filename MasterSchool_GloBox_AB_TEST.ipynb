{
  "nbformat": 4,
  "nbformat_minor": 0,
  "metadata": {
    "colab": {
      "provenance": [],
      "mount_file_id": "1DJuI_dGjVE6eUjMjURbXu3LnyfRQavqh",
      "authorship_tag": "ABX9TyMmo55yHXTJP2OILaTMjCPp",
      "include_colab_link": true
    },
    "kernelspec": {
      "name": "python3",
      "display_name": "Python 3"
    },
    "language_info": {
      "name": "python"
    }
  },
  "cells": [
    {
      "cell_type": "markdown",
      "metadata": {
        "id": "view-in-github",
        "colab_type": "text"
      },
      "source": [
        "<a href=\"https://colab.research.google.com/github/sulaimonao/sulaimonao/blob/main/MasterSchool_GloBox_AB_TEST.ipynb\" target=\"_parent\"><img src=\"https://colab.research.google.com/assets/colab-badge.svg\" alt=\"Open In Colab\"/></a>"
      ]
    },
    {
      "cell_type": "markdown",
      "source": [
        "**Conduct a hypothesis test to see whether there is a difference in the conversion rate between the two groups. What are the resulting p-value and conclusion?**"
      ],
      "metadata": {
        "id": "52ZESjL4EPKi"
      }
    },
    {
      "cell_type": "markdown",
      "source": [
        "Data Exploration: Quick check of the data to understand its structure and contents."
      ],
      "metadata": {
        "id": "f9Hj9r3NBLgf"
      }
    },
    {
      "cell_type": "code",
      "source": [
        "import pandas as pd\n",
        "\n",
        "# Load the dataset\n",
        "file_path = '/content/cleaned_data.csv'  # Replace with your file path\n",
        "data = pd.read_csv(file_path)\n",
        "\n",
        "# Display the first few rows of the dataset\n",
        "print(data.head())\n"
      ],
      "metadata": {
        "colab": {
          "base_uri": "https://localhost:8080/"
        },
        "id": "eaEILdKGA9zC",
        "outputId": "7b9b8509-fe15-4885-cb3f-338680c1e518"
      },
      "execution_count": null,
      "outputs": [
        {
          "output_type": "stream",
          "name": "stdout",
          "text": [
            "   user_id country gender device_type test_group converted  total_spent\n",
            "0  1000000     CAN      M           I          B        No          0.0\n",
            "1  1000001     BRA      M           A          A        No          0.0\n",
            "2  1000002     FRA      M           A          A        No          0.0\n",
            "3  1000003     BRA      M           I          B        No          0.0\n",
            "4  1000004     DEU      F           A          A        No          0.0\n"
          ]
        }
      ]
    },
    {
      "cell_type": "markdown",
      "source": [
        "Data Preparation:\n",
        "\n",
        "Convert the 'converted' column to a binary format (e.g., Yes = 1, No = 0) for ease of analysis.\n",
        "\n",
        "Ensure that the 'total_spent' column is in the correct numerical format"
      ],
      "metadata": {
        "id": "FeIGkWB0BNEw"
      }
    },
    {
      "cell_type": "code",
      "source": [
        "# Data Preparation\n",
        "data['converted'] = data['converted'].map({'Yes': 1, 'No': 0})  # Convert to binary\n",
        "\n",
        "# Ensure 'total_spent' is numeric\n",
        "data['total_spent'] = pd.to_numeric(data['total_spent'], errors='coerce')\n",
        "\n",
        "# Display the updated dataframe\n",
        "print(data.head())\n",
        "\n",
        "# Save the modified dataset to a new CSV file\n",
        "new_file_path = '/content/modified_dataset.csv'\n",
        "data.to_csv(new_file_path, index=False)\n",
        "\n",
        "print(\"Modified dataset saved as 'modified_dataset.csv'\")\n"
      ],
      "metadata": {
        "colab": {
          "base_uri": "https://localhost:8080/"
        },
        "id": "ndzMvOwUBsEi",
        "outputId": "73a45d53-ea92-41c2-84b9-e20321672d90"
      },
      "execution_count": null,
      "outputs": [
        {
          "output_type": "stream",
          "name": "stdout",
          "text": [
            "   user_id country gender device_type test_group  converted  total_spent\n",
            "0  1000000     CAN      M           I          B          0          0.0\n",
            "1  1000001     BRA      M           A          A          0          0.0\n",
            "2  1000002     FRA      M           A          A          0          0.0\n",
            "3  1000003     BRA      M           I          B          0          0.0\n",
            "4  1000004     DEU      F           A          A          0          0.0\n",
            "Modified dataset saved as 'modified_dataset.csv'\n"
          ]
        }
      ]
    },
    {
      "cell_type": "markdown",
      "source": [
        "H_0 = There is no difference in conversion rates between the treatment and control groups.\n"
      ],
      "metadata": {
        "id": "6uzmEIiACmfV"
      }
    },
    {
      "cell_type": "markdown",
      "source": [
        "Since the conversion rate is a categorical variable (converted vs. not converted), a Chi-square test of independence is appropriate. This test will determine if there's a statistical difference in conversion rates between the two groups."
      ],
      "metadata": {
        "id": "QEDHSzgDDE9F"
      }
    },
    {
      "cell_type": "markdown",
      "source": [
        "Creating a contingency table from data to perform the Chi-square test."
      ],
      "metadata": {
        "id": "sq_J2gGLDJPE"
      }
    },
    {
      "cell_type": "code",
      "source": [
        "import pandas as pd\n",
        "from scipy.stats import chi2_contingency\n",
        "\n",
        "# Load the data\n",
        "data = pd.read_csv('/content/cleaned_data.csv')\n",
        "\n",
        "# Convert 'converted' to binary format for analysis\n",
        "data['converted'] = data['converted'].map({'Yes': 1, 'No': 0})\n",
        "\n",
        "# Creating a contingency table\n",
        "contingency_table = pd.crosstab(data['test_group'], data['converted'])\n",
        "\n",
        "# Performing the Chi-square test\n",
        "chi2, p, dof, expected = chi2_contingency(contingency_table)\n",
        "\n",
        "# Output the results\n",
        "print(\"Chi-square statistic:\", chi2)\n",
        "print(\"p-value:\", p)\n"
      ],
      "metadata": {
        "colab": {
          "base_uri": "https://localhost:8080/"
        },
        "id": "PQY_4vRLC-60",
        "outputId": "73427b12-9e8f-4621-f709-8480c20c857e"
      },
      "execution_count": null,
      "outputs": [
        {
          "output_type": "stream",
          "name": "stdout",
          "text": [
            "Chi-square statistic: 14.309633731848777\n",
            "p-value: 0.00015506924632928225\n"
          ]
        }
      ]
    },
    {
      "cell_type": "markdown",
      "source": [
        "Since the p-value (0.000155) is less than 0.05, we reject the null hypothesis.\n",
        "\n",
        "This suggests that there is a statistically significant difference in conversion rates between the treatment and control groups."
      ],
      "metadata": {
        "id": "IWZ7BrlMDgnZ"
      }
    },
    {
      "cell_type": "markdown",
      "source": [
        "Conclusion:\n",
        "\n",
        "The analysis indicates that the treatment group's conversion rate significantly differs from that of the control group. This finding supports the alternative hypothesis (H1) that there is a difference in conversion rates between the two groups."
      ],
      "metadata": {
        "id": "bFdS9u9aD2cg"
      }
    },
    {
      "cell_type": "markdown",
      "source": [
        "**What is the 95% confidence interval for the difference in the conversion rate between the treatment and control (treatment-control)?**"
      ],
      "metadata": {
        "id": "anJZ9hKaEHTU"
      }
    },
    {
      "cell_type": "markdown",
      "source": [
        "Calculate Conversion Rates: First, find the conversion rates for both the treatment and control groups.\n",
        "\n",
        "Compute the Standard Error: Calculate the standard error for the difference in conversion rates.\n",
        "\n",
        "Calculate the Margin of Error: Use the standard error to compute the margin of error at a 95% confidence level.\n",
        "\n",
        "Determine the Confidence Interval: The confidence interval is the difference in conversion rates ± the margin of error."
      ],
      "metadata": {
        "id": "7ASjI_8IEXoS"
      }
    },
    {
      "cell_type": "code",
      "source": [
        "import pandas as pd\n",
        "import numpy as np\n",
        "from scipy.stats import norm\n",
        "\n",
        "# Load the data\n",
        "data = pd.read_csv('/content/cleaned_data.csv')\n",
        "\n",
        "# Convert 'converted' to binary format\n",
        "data['converted'] = data['converted'].map({'Yes': 1, 'No': 0})\n",
        "\n",
        "# Calculate conversion rates\n",
        "conv_rate_control = data[data['test_group'] == 'A']['converted'].mean()\n",
        "conv_rate_treatment = data[data['test_group'] == 'B']['converted'].mean()\n",
        "\n",
        "# Calculate the standard error\n",
        "n_control = len(data[data['test_group'] == 'A'])\n",
        "n_treatment = len(data[data['test_group'] == 'B'])\n",
        "se = np.sqrt((conv_rate_control * (1 - conv_rate_control) / n_control) +\n",
        "             (conv_rate_treatment * (1 - conv_rate_treatment) / n_treatment))\n",
        "\n",
        "# Calculate the margin of error for a 95% confidence interval\n",
        "z_score = norm.ppf(0.975)  # 97.5% percentile of the normal distribution for two-tailed\n",
        "margin_of_error = z_score * se\n",
        "\n",
        "# Calculate the confidence interval\n",
        "ci_lower = (conv_rate_treatment - conv_rate_control) - margin_of_error\n",
        "ci_upper = (conv_rate_treatment - conv_rate_control) + margin_of_error\n",
        "\n",
        "# Output the results\n",
        "print(\"95% Confidence Interval for the difference in conversion rate: [{}, {}]\".format(ci_lower, ci_upper))\n"
      ],
      "metadata": {
        "colab": {
          "base_uri": "https://localhost:8080/"
        },
        "id": "TF6R5hTzEYp1",
        "outputId": "ba084bbc-1396-4323-bf25-bd30b8312797"
      },
      "execution_count": null,
      "outputs": [
        {
          "output_type": "stream",
          "name": "stdout",
          "text": [
            "95% Confidence Interval for the difference in conversion rate: [0.0033908772937509446, 0.010585996381550482]\n"
          ]
        }
      ]
    },
    {
      "cell_type": "markdown",
      "source": [
        "**Confidence Interval: [0.003486, 0.010654]**\n",
        "\n",
        "This means that with 95% confidence, the true difference in conversion rates between the treatment and control groups lies somewhere between 0.003390 and 0.010585. To interpret this further:\n",
        "\n",
        "**Positive Interval:** Since both lower and upper bounds of the interval are positive, it suggests that the treatment group likely has a higher conversion rate than the control group.\n",
        "\n",
        "**Statistical Significance:** This interval does not contain 0, which supports the earlier finding that the difference in conversion rates is statistically significant."
      ],
      "metadata": {
        "id": "aWsFS4C0EnmU"
      }
    },
    {
      "cell_type": "markdown",
      "source": [
        "**Conduct a hypothesis test to see whether there is a difference in the average amount spent per user between the two groups. What are the resulting p-value and conclusion?**\n",
        "\n",
        "Use the t distribution and a 5% significance level. Assume unequal variance."
      ],
      "metadata": {
        "id": "ROfeDbQWFlj0"
      }
    },
    {
      "cell_type": "code",
      "source": [
        "import pandas as pd\n",
        "from scipy.stats import ttest_ind\n",
        "\n",
        "# Load the data\n",
        "data = pd.read_csv('/content/cleaned_data.csv')\n",
        "\n",
        "# Isolate the total spent by each group\n",
        "total_spent_control = data[data['test_group'] == 'A']['total_spent']\n",
        "total_spent_treatment = data[data['test_group'] == 'B']['total_spent']\n",
        "\n",
        "# Perform Welch's t-test\n",
        "t_stat, p_value = ttest_ind(total_spent_control, total_spent_treatment, equal_var=False)\n",
        "\n",
        "# Output the results\n",
        "print(\"T-Statistic:\", t_stat)\n",
        "print(\"p-value:\", p_value)\n"
      ],
      "metadata": {
        "colab": {
          "base_uri": "https://localhost:8080/"
        },
        "id": "uz7Znw-DFpP-",
        "outputId": "4c6c90d3-1705-4705-a7d3-96093beb6bfb"
      },
      "execution_count": null,
      "outputs": [
        {
          "output_type": "stream",
          "name": "stdout",
          "text": [
            "T-Statistic: -0.1524754422215445\n",
            "p-value: 0.8788125906384138\n"
          ]
        }
      ]
    },
    {
      "cell_type": "markdown",
      "source": [
        "**T-Statistic**: -0.1524 - This value indicates the direction and magnitude of the difference between the group means, relative to the variation within the groups.\n",
        "\n",
        "**p-value:** 0.8788 - This is significantly greater than the typical alpha level of 0.05 (5% significance level)."
      ],
      "metadata": {
        "id": "HGGjeUB7FxJV"
      }
    },
    {
      "cell_type": "markdown",
      "source": [
        "**High p-value:** Given that the p-value (0.8788) is much higher than 0.05, you fail to reject the null hypothesis.\n",
        "\n",
        "**No Statistical Significance:** This suggests that there is no statistically significant difference in the average amount spent per user between the treatment and control groups."
      ],
      "metadata": {
        "id": "Cv4MbbDMF6lX"
      }
    },
    {
      "cell_type": "markdown",
      "source": [
        "**Conclusion:**\n",
        "\n",
        "The analysis indicates that, in terms of the average amount spent per user, the treatment does not significantly differ from the control. This means that whatever changes or treatments were applied to the treatment group did not have a significant impact on how much users spent, compared to the control group."
      ],
      "metadata": {
        "id": "yb9vqwKjF_uU"
      }
    },
    {
      "cell_type": "markdown",
      "source": [
        "**What is the 95% confidence interval for the difference in the average amount spent per user between the treatment and the control (treatment-control)?**\n",
        "\n",
        "Use the t distribution and assume unequal variance."
      ],
      "metadata": {
        "id": "wbkGMPRbGGZN"
      }
    },
    {
      "cell_type": "code",
      "source": [
        "import pandas as pd\n",
        "from scipy.stats import t\n",
        "from numpy import sqrt\n",
        "\n",
        "# Load the data\n",
        "data = pd.read_csv('/content/cleaned_data.csv')\n",
        "\n",
        "# Calculate mean and standard deviation for each group\n",
        "mean_control = data[data['test_group'] == 'A']['total_spent'].mean()\n",
        "std_control = data[data['test_group'] == 'A']['total_spent'].std()\n",
        "n_control = len(data[data['test_group'] == 'A'])\n",
        "\n",
        "mean_treatment = data[data['test_group'] == 'B']['total_spent'].mean()\n",
        "std_treatment = data[data['test_group'] == 'B']['total_spent'].std()\n",
        "n_treatment = len(data[data['test_group'] == 'B'])\n",
        "\n",
        "# Calculate the standard error of the difference in means\n",
        "se_diff = sqrt((std_control**2 / n_control) + (std_treatment**2 / n_treatment))\n",
        "\n",
        "# Degrees of freedom for Welch's t-test\n",
        "df = (std_control**2 / n_control + std_treatment**2 / n_treatment)**2 / ((std_control**4 / (n_control**2 * (n_control - 1))) + (std_treatment**4 / (n_treatment**2 * (n_treatment - 1))))\n",
        "\n",
        "# Calculate the margin of error\n",
        "t_critical = t.ppf(0.975, df)  # 97.5th percentile of the t-distribution\n",
        "margin_of_error = t_critical * se_diff\n",
        "\n",
        "# Calculate the confidence interval\n",
        "ci_lower = (mean_treatment - mean_control) - margin_of_error\n",
        "ci_upper = (mean_treatment - mean_control) + margin_of_error\n",
        "\n",
        "# Output the results\n",
        "print(\"95% Confidence Interval for the difference in average amount spent: [{}, {}]\".format(ci_lower, ci_upper))\n"
      ],
      "metadata": {
        "colab": {
          "base_uri": "https://localhost:8080/"
        },
        "id": "WM26IJSUGVbZ",
        "outputId": "aae2dcfa-ebdc-41a2-bd69-42dd8779885c"
      },
      "execution_count": null,
      "outputs": [
        {
          "output_type": "stream",
          "name": "stdout",
          "text": [
            "95% Confidence Interval for the difference in average amount spent: [-0.4169734959233784, 0.48732138605483577]\n"
          ]
        }
      ]
    },
    {
      "cell_type": "markdown",
      "source": [
        "**Interpretation of the Confidence Interval:**\n",
        "\n",
        "**Interval Range**: The interval ranges from approximately -0.41697 to 0.48732.\n",
        "\n",
        "**Contains Zero**: Notably, this confidence interval includes zero. This inclusion suggests that the difference in average spending between the two groups could be zero, indicating no effect."
      ],
      "metadata": {
        "id": "YzLJqwbkGbou"
      }
    },
    {
      "cell_type": "markdown",
      "source": [
        "**Implications:**\n",
        "\n",
        "**No Significant Difference**: The fact that zero is within this interval aligns with the earlier hypothesis test result, which did not find a statistically significant difference in average spending between the groups.\n",
        "\n",
        "**Practical Consideration**: Even though there might be some difference in average spending, we are not confident that this difference is significant, as the range includes both a decrease and an increase."
      ],
      "metadata": {
        "id": "oJd7X2rmGbqB"
      }
    },
    {
      "cell_type": "markdown",
      "source": [
        "**Conclusion:**\n",
        "\n",
        "Based on this confidence interval, it's prudent to conclude that the treatment did not have a statistically significant impact on the average amount spent per user when compared to the control group. In practical terms, this means that whatever intervention or changes were implemented in the treatment group did not significantly alter the spending behavior compared to the control group."
      ],
      "metadata": {
        "id": "IpfDhSekG3pK"
      }
    },
    {
      "cell_type": "markdown",
      "source": [
        "**ADVANCED TASKS**"
      ],
      "metadata": {
        "id": "CabD6aiyG_XA"
      }
    },
    {
      "cell_type": "code",
      "source": [],
      "metadata": {
        "id": "WL1e7XpXOsTR"
      },
      "execution_count": null,
      "outputs": []
    },
    {
      "cell_type": "markdown",
      "source": [
        "**Calculate a 95% confidence interval for the difference in the conversion rate between the treatment and control (treatment-control).**\n",
        "\n",
        "Use the normal distribution and unpooled proportions for the standard error."
      ],
      "metadata": {
        "id": "yIeAW4bBLAWK"
      }
    },
    {
      "cell_type": "code",
      "source": [
        "import pandas as pd\n",
        "import numpy as np\n",
        "from scipy import stats\n",
        "\n",
        "# Load the data\n",
        "data = pd.read_csv('/content/cleaned_data.csv')\n",
        "\n",
        "\n",
        "# Replace non-numeric values in the 'converted' column\n",
        "data['converted'] = data['converted'].replace({'No': 0, 'Yes': 1})\n",
        "\n",
        "# Separate treatment and control groups based on 'test_group' column\n",
        "treatment = data[data['test_group'] == 'A']  # Assuming \"A\" is the treatment group\n",
        "control = data[data['test_group'] == 'B']  # Assuming \"B\" is the control group\n",
        "\n",
        "# Calculate conversion rates for treatment and control groups\n",
        "conversion_rate_treatment = treatment['converted'].mean()\n",
        "conversion_rate_control = control['converted'].mean()\n",
        "\n",
        "# Calculate the number of observations (sample sizes) in each group\n",
        "n_treatment = len(treatment)\n",
        "n_control = len(control)\n",
        "\n",
        "# Calculate the standard error for treatment and control groups\n",
        "se_treatment = np.sqrt(conversion_rate_treatment * (1 - conversion_rate_treatment) / n_treatment)\n",
        "se_control = np.sqrt(conversion_rate_control * (1 - conversion_rate_control) / n_control)\n",
        "\n",
        "# Calculate the standard error for the difference in conversion rates\n",
        "se_diff = np.sqrt(se_treatment**2 + se_control**2)\n",
        "\n",
        "# Calculate the margin of error using the normal distribution (z-score for 95% confidence)\n",
        "z_score = 1.96  # For 95% confidence interval\n",
        "margin_of_error = z_score * se_diff\n",
        "\n",
        "# Calculate the confidence interval\n",
        "ci_lower = (conversion_rate_treatment - conversion_rate_control) - margin_of_error\n",
        "ci_upper = (conversion_rate_treatment - conversion_rate_control) + margin_of_error\n",
        "\n",
        "# Output the results\n",
        "print(\"95% Confidence Interval for the difference in conversion rates (treatment - control): [{}, {}]\".format(ci_lower, ci_upper))\n"
      ],
      "metadata": {
        "colab": {
          "base_uri": "https://localhost:8080/"
        },
        "id": "wUnZDymIN9dK",
        "outputId": "ec002a5a-09e6-4a3c-970d-06b1aad369ae"
      },
      "execution_count": null,
      "outputs": [
        {
          "output_type": "stream",
          "name": "stdout",
          "text": [
            "95% Confidence Interval for the difference in conversion rates (treatment - control): [-0.010586062488766063, -0.0033908111865353636]\n"
          ]
        }
      ]
    },
    {
      "cell_type": "markdown",
      "source": [
        "Conduct a hypothesis test to see whether there is a difference in the average amount spent per user between the two groups.\n",
        "What would be the null and alternative hypotheses?"
      ],
      "metadata": {
        "id": "ZpdXG0RgPdIf"
      }
    },
    {
      "cell_type": "code",
      "source": [
        "import pandas as pd\n",
        "import scipy.stats as stats\n",
        "\n",
        "# Load the data\n",
        "data = pd.read_csv('/content/cleaned_data.csv')\n",
        "\n",
        "# Separate treatment and control groups based on 'test_group' column\n",
        "treatment = data[data['test_group'] == 'A']  # Assuming \"A\" is the treatment group\n",
        "control = data[data['test_group'] == 'B']  # Assuming \"B\" is the control group\n",
        "\n",
        "# Define the two samples\n",
        "sample_treatment = treatment['total_spent']\n",
        "sample_control = control['total_spent']\n",
        "\n",
        "# Perform a two-sample t-test\n",
        "t_statistic, p_value = stats.ttest_ind(sample_treatment, sample_control, equal_var=False)  # Assuming unequal variances\n",
        "\n",
        "# Set the significance level (alpha)\n",
        "alpha = 0.05\n",
        "\n",
        "# Print the results\n",
        "print(\"Null Hypothesis (H0): There is no significant difference in the average amount spent per user between the two groups.\")\n",
        "print(\"Alternative Hypothesis (H1): There is a significant difference in the average amount spent per user between the two groups.\")\n",
        "print(f\"Test Statistic: {t_statistic}\")\n",
        "print(f\"P-value: {p_value}\")\n",
        "\n",
        "if p_value < alpha:\n",
        "    print(\"Result: Reject the null hypothesis. There is a significant difference.\")\n",
        "else:\n",
        "    print(\"Result: Fail to reject the null hypothesis. There is no significant difference.\")\n"
      ],
      "metadata": {
        "colab": {
          "base_uri": "https://localhost:8080/"
        },
        "id": "rUg5PgHsPmQa",
        "outputId": "14b7ebf6-282e-45a4-cc53-fb3b1a3266b2"
      },
      "execution_count": null,
      "outputs": [
        {
          "output_type": "stream",
          "name": "stdout",
          "text": [
            "Null Hypothesis (H0): There is no significant difference in the average amount spent per user between the two groups.\n",
            "Alternative Hypothesis (H1): There is a significant difference in the average amount spent per user between the two groups.\n",
            "Test Statistic: -0.1524754422215445\n",
            "P-value: 0.8788125906384138\n",
            "Result: Fail to reject the null hypothesis. There is no significant difference.\n"
          ]
        }
      ]
    },
    {
      "cell_type": "markdown",
      "source": [
        "Conduct a hypothesis test to see whether there is a difference in the average amount spent per user between the two groups.\n",
        "What are the resulting p-value and conclusion?\n",
        "\n",
        "Use the t distribution and a 5% significance level. Assume unequal variance."
      ],
      "metadata": {
        "id": "ecZqD4s_QGWW"
      }
    },
    {
      "cell_type": "code",
      "source": [
        "import pandas as pd\n",
        "import scipy.stats as stats\n",
        "\n",
        "# Load the data\n",
        "data = pd.read_csv('/content/cleaned_data.csv')\n",
        "\n",
        "# Separate treatment and control groups based on 'test_group' column\n",
        "treatment = data[data['test_group'] == 'A']  # Assuming \"A\" is the treatment group\n",
        "control = data[data['test_group'] == 'B']  # Assuming \"B\" is the control group\n",
        "\n",
        "# Define the two samples\n",
        "sample_treatment = treatment['total_spent']\n",
        "sample_control = control['total_spent']\n",
        "\n",
        "# Perform a two-sample t-test with unequal variance (Welch's t-test)\n",
        "t_statistic, p_value = stats.ttest_ind(sample_treatment, sample_control, equal_var=False)\n",
        "\n",
        "# Set the significance level (alpha)\n",
        "alpha = 0.05\n",
        "\n",
        "# Print the results\n",
        "print(\"Null Hypothesis (H0): There is no significant difference in the average amount spent per user between the two groups.\")\n",
        "print(\"Alternative Hypothesis (H1): There is a significant difference in the average amount spent per user between the two groups.\")\n",
        "print(f\"Test Statistic: {t_statistic}\")\n",
        "print(f\"P-value: {p_value}\")\n",
        "\n",
        "if p_value < alpha:\n",
        "    print(\"Result: Reject the null hypothesis. There is a significant difference in the average amount spent.\")\n",
        "else:\n",
        "    print(\"Result: Fail to reject the null hypothesis. There is no significant difference in the average amount spent.\")\n"
      ],
      "metadata": {
        "colab": {
          "base_uri": "https://localhost:8080/"
        },
        "id": "nyh_dJXqQJGb",
        "outputId": "b9ced172-e5ad-4f80-fde2-c8e13859b892"
      },
      "execution_count": null,
      "outputs": [
        {
          "output_type": "stream",
          "name": "stdout",
          "text": [
            "Null Hypothesis (H0): There is no significant difference in the average amount spent per user between the two groups.\n",
            "Alternative Hypothesis (H1): There is a significant difference in the average amount spent per user between the two groups.\n",
            "Test Statistic: -0.1524754422215445\n",
            "P-value: 0.8788125906384138\n",
            "Result: Fail to reject the null hypothesis. There is no significant difference in the average amount spent.\n"
          ]
        }
      ]
    },
    {
      "cell_type": "markdown",
      "source": [
        "Calculate a 95% confidence interval for the difference in the average amount spent per user between the treatment and the control (treatment-control).\n",
        "Use the t distribution and assume unequal variance."
      ],
      "metadata": {
        "id": "gdtaCOZbQdb0"
      }
    },
    {
      "cell_type": "code",
      "source": [
        "import pandas as pd\n",
        "import scipy.stats as stats\n",
        "\n",
        "# Load the data\n",
        "data = pd.read_csv('/content/cleaned_data.csv')\n",
        "\n",
        "# Separate treatment and control groups based on 'test_group' column\n",
        "treatment = data[data['test_group'] == 'A']  # Assuming \"A\" is the treatment group\n",
        "control = data[data['test_group'] == 'B']  # Assuming \"B\" is the control group\n",
        "\n",
        "# Define the two samples\n",
        "sample_treatment = treatment['total_spent']\n",
        "sample_control = control['total_spent']\n",
        "\n",
        "# Calculate the mean and standard deviation for each group\n",
        "mean_treatment = sample_treatment.mean()\n",
        "mean_control = sample_control.mean()\n",
        "std_treatment = sample_treatment.std()\n",
        "std_control = sample_control.std()\n",
        "\n",
        "# Calculate the sample sizes\n",
        "n_treatment = len(sample_treatment)\n",
        "n_control = len(sample_control)\n",
        "\n",
        "# Calculate the standard error for the difference in means\n",
        "se_diff = ((std_treatment**2 / n_treatment) + (std_control**2 / n_control))**0.5\n",
        "\n",
        "# Calculate the degrees of freedom for Welch's t-distribution\n",
        "df = (std_treatment**2 / n_treatment + std_control**2 / n_control)**2 / ((std_treatment**4 / (n_treatment**2 * (n_treatment - 1))) + (std_control**4 / (n_control**2 * (n_control - 1))))\n",
        "\n",
        "# Calculate the margin of error\n",
        "t_critical = abs(stats.t.ppf(0.025, df))  # 2.5th percentile of the t-distribution for a 95% confidence interval\n",
        "margin_of_error = t_critical * se_diff\n",
        "\n",
        "# Calculate the confidence interval\n",
        "ci_lower = (mean_treatment - mean_control) - margin_of_error\n",
        "ci_upper = (mean_treatment - mean_control) + margin_of_error\n",
        "\n",
        "# Output the results\n",
        "print(\"95% Confidence Interval for the difference in average amount spent (treatment - control):\")\n",
        "print(f\"({ci_lower:.4f}, {ci_upper:.4f})\")\n"
      ],
      "metadata": {
        "id": "J_MAhN99QsYl",
        "outputId": "afcefa22-54bc-4581-b13f-ea95cba516cb",
        "colab": {
          "base_uri": "https://localhost:8080/"
        }
      },
      "execution_count": null,
      "outputs": [
        {
          "output_type": "stream",
          "name": "stdout",
          "text": [
            "95% Confidence Interval for the difference in average amount spent (treatment - control):\n",
            "(-0.4873, 0.4170)\n"
          ]
        }
      ]
    }
  ]
}